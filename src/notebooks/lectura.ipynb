{
 "cells": [
  {
   "cell_type": "code",
   "execution_count": 1,
   "metadata": {},
   "source": [
    "import pandas as pd\n",
    "pd.set_option('display.max_columns', None)\n",
    "\n",
    "# Load the Excel file\n",
    "file_path = './BASE_ENTRENAMIENTO_VALIDACION_GT_NI.xlsx'\n",
    "spreadsheet = pd.ExcelFile(file_path)\n"
   ],
   "outputs": []
  },
  {
   "metadata": {},
   "cell_type": "code",
   "outputs": [],
   "execution_count": null,
   "source": [
    "import pandas as pd\n",
    "pd.set_option('display.max_columns', None)\n",
    "\n",
    "# Load the Excel file\n",
    "file_path = './BASE_ENTRENAMIENTO_VALIDACION_GT_NI.xlsx'\n",
    "spreadsheet = pd.ExcelFile(file_path)\n"
   ]
  },
  {
   "cell_type": "code",
   "execution_count": 2,
   "metadata": {},
   "source": [
    "# Load the 'entrenamiento_gt' sheet to examine its structure\n",
    "entrenamiento_gt_df = pd.read_excel(file_path, sheet_name='entrenamiento_gt')\n",
    "\n",
    "# Display the first few rows of the dataframe to understand its structure\n",
    "entrenamiento_gt_df.columns\n"
   ],
   "outputs": []
  },
  {
   "cell_type": "code",
   "execution_count": 3,
   "metadata": {},
   "source": [
    "entrenamiento_gt_df.describe()"
   ],
   "outputs": []
  },
  {
   "cell_type": "code",
   "execution_count": 4,
   "metadata": {},
   "source": [
    "entrenamiento_gt_df.head()"
   ],
   "outputs": []
  },
  {
   "cell_type": "code",
   "execution_count": 5,
   "metadata": {},
   "source": [
    "# Load the Excel file\n",
    "file_path_INDICES = './INDICES/GT_INDICES_NAX.xlsx'\n",
    "spreadsheet = pd.ExcelFile(file_path_INDICES)\n",
    "\n",
    "# Display sheet names to understand the structure of the file\n",
    "spreadsheet.sheet_names\n"
   ],
   "outputs": []
  },
  {
   "cell_type": "code",
   "execution_count": 6,
   "metadata": {},
   "source": [
    "# Load the 'entrenamiento_gt' sheet to examine its structure\n",
    "indices_gt = pd.read_excel(file_path_INDICES, sheet_name='INDICES')\n",
    "\n",
    "# Display the first few rows of the dataframe to understand its structure\n",
    "indices_gt.columns\n"
   ],
   "outputs": []
  },
  {
   "cell_type": "code",
   "execution_count": 7,
   "metadata": {},
   "source": [
    "indices_gt.tail()"
   ],
   "outputs": []
  },
  {
   "cell_type": "code",
   "execution_count": 16,
   "metadata": {},
   "source": [
    "# Load the Excel file\n",
    "file_path_CLIMA = './CLIMA/GT_CLIMA.xlsx'\n",
    "\n",
    "# Load the 'entrenamiento_gt' sheet to examine its structure\n",
    "indices_gt = pd.read_excel(file_path_CLIMA, sheet_name='Reporte')\n",
    "\n",
    "# Display the first few rows of the dataframe to understand its structure\n",
    "indices_gt.columns\n",
    "\n"
   ],
   "outputs": []
  }
 ],
 "metadata": {
  "kernelspec": {
   "display_name": "Python 3",
   "language": "python",
   "name": "python3"
  },
  "language_info": {
   "codemirror_mode": {
    "name": "ipython",
    "version": 3
   },
   "file_extension": ".py",
   "mimetype": "text/x-python",
   "name": "python",
   "nbconvert_exporter": "python",
   "pygments_lexer": "ipython3",
   "version": "3.10.11"
  }
 },
 "nbformat": 4,
 "nbformat_minor": 2
}
