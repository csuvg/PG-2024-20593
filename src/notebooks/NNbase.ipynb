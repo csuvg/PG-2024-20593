{
 "cells": [
  {
   "cell_type": "code",
   "id": "initial_id",
   "metadata": {
    "collapsed": true,
    "ExecuteTime": {
     "end_time": "2024-10-11T22:37:28.737729Z",
     "start_time": "2024-10-11T22:37:28.713711Z"
    }
   },
   "source": [
    "import random\n",
    "import torch\n",
    "import numpy as np\n",
    "import pandas as pd\n",
    "import torch.nn as nn\n",
    "import torch.optim as optim\n",
    "import torch.nn.functional as F\n",
    "import torch.utils.data as data\n",
    "import matplotlib.pyplot as plt\n",
    "from torch.optim.lr_scheduler import StepLR\n",
    "from torch.utils.data import Dataset, DataLoader\n",
    "from torch.utils.tensorboard import SummaryWriter\n",
    "from sklearn.model_selection import train_test_split\n",
    "from sklearn.ensemble import RandomForestRegressor\n",
    "from sklearn.metrics import mean_squared_error, r2_score\n",
    "from sklearn.metrics import accuracy_score, log_loss\n",
    "from sklearn.metrics import mean_absolute_error\n",
    "from sklearn.preprocessing import StandardScaler\n",
    "# Realizar Grid Search\n",
    "from itertools import product\n",
    "\n",
    "\n",
    "\n",
    "# Seed all possible\n",
    "seed_ = 935115\n",
    "random.seed(seed_)\n",
    "np.random.seed(seed_)\n",
    "torch.manual_seed(seed_)\n",
    "\n",
    "# If using CUDA, you can set the seed for CUDA devices as well\n",
    "if torch.cuda.is_available():\n",
    "    torch.cuda.manual_seed(seed_)\n",
    "    torch.cuda.manual_seed_all(seed_)\n",
    "    \n",
    "import torch.backends.cudnn as cudnn\n",
    "cudnn.deterministic = True\n",
    "cudnn.benchmark = False\n",
    "\n",
    "device = torch.device(\"cuda:0\" if torch.cuda.is_available() else \"cpu\")\n",
    "print(device)"
   ],
   "execution_count": 14,
   "outputs": []
  },
  {
   "metadata": {
    "ExecuteTime": {
     "end_time": "2024-10-11T22:37:29.590432Z",
     "start_time": "2024-10-11T22:37:28.738752Z"
    }
   },
   "cell_type": "code",
   "source": [
    "data = pd.read_csv('../data/PROCESS/encoded_tch_prediction_data_zafrav3.2.csv')\n",
    "\n",
    "# Create a mask for ZAFRA 22-23\n",
    "mask_22_23 = data['ZAFRA'] == '23-24'\n",
    "\n",
    "# Split the data\n",
    "X_train = data[~mask_22_23].drop('TCH', axis=1)\n",
    "y_train = data[~mask_22_23]['TCH']\n",
    "X_test = data[mask_22_23].drop('TCH', axis=1)\n",
    "y_test = data[mask_22_23]['TCH']\n",
    "\n",
    "X_train = X_train.drop(columns=['ABS_IDCOMP','ZAFRA'])\n",
    "X_test = X_test.drop(columns=['ABS_IDCOMP','ZAFRA'])\n",
    "\n",
    "print(\"\\nZAFRA Split:\")\n",
    "print(f\"Training set shape: {X_train.shape}\")\n",
    "print(f\"Testing set shape: {X_test.shape}\")\n",
    "\n",
    "data[~mask_22_23].to_csv('../data/UP/TRAIN.csv',index=False)\n",
    "data[mask_22_23].to_csv('../data/UP/TEST.csv',index=False)\n"
   ],
   "id": "72a83c052b7a16dc",
   "execution_count": 15,
   "outputs": []
  },
  {
   "metadata": {
    "ExecuteTime": {
     "end_time": "2024-10-11T22:37:29.606412Z",
     "start_time": "2024-10-11T22:37:29.591413Z"
    }
   },
   "cell_type": "code",
   "source": [
    "\n",
    "# Convert data to PyTorch tensors\n",
    "X_train_tensor = torch.tensor(X_train.values, dtype=torch.float32)\n",
    "y_train_tensor = torch.tensor(y_train.values, dtype=torch.float32).unsqueeze(1)\n",
    "X_test_tensor = torch.tensor(X_test.values, dtype=torch.float32)\n",
    "y_test_tensor = torch.tensor(y_test.values, dtype=torch.float32).unsqueeze(1)\n",
    "\n",
    "\n",
    "\n",
    "# Custom Dataset class\n",
    "class CaneDataset(Dataset):\n",
    "    def __init__(self, X, y):\n",
    "        self.X = X\n",
    "        self.y = y\n",
    "\n",
    "    def __len__(self):\n",
    "        return len(self.X)\n",
    "\n",
    "    def __getitem__(self, idx):\n",
    "        return self.X[idx], self.y[idx]\n",
    "\n",
    "# Create Dataset instances\n",
    "train_dataset = CaneDataset(X_train_tensor, y_train_tensor)\n",
    "test_dataset = CaneDataset(X_test_tensor, y_test_tensor)\n",
    "\n",
    "# Create DataLoader instances\n",
    "train_loader = DataLoader(train_dataset, batch_size=32, shuffle=True)\n",
    "test_loader = DataLoader(test_dataset, batch_size=32, shuffle=False)\n",
    "\n",
    "# Example usage\n",
    "for X_batch, y_batch in train_loader:\n",
    "    print(f\"X batch shape: {X_batch.shape}\")\n",
    "    print(f\"y batch shape: {y_batch.shape}\")\n",
    "    break"
   ],
   "id": "b8731d237ae78d61",
   "execution_count": 16,
   "outputs": []
  },
  {
   "metadata": {
    "ExecuteTime": {
     "end_time": "2024-10-11T22:53:31.503540Z",
     "start_time": "2024-10-11T22:53:31.490566Z"
    }
   },
   "cell_type": "code",
   "source": [
    "class RegressionNN(nn.Module):\n",
    "    def __init__(self, input_size):\n",
    "        super(RegressionNN, self).__init__()\n",
    "        self.network = nn.Sequential(\n",
    "            \n",
    "            nn.Linear(input_size, 512),\n",
    "            nn.Sigmoid(),\n",
    "            nn.Linear(512, 256),\n",
    "            nn.Sigmoid(),\n",
    "            \n",
    "            nn.Linear(256, 128),\n",
    "            nn.Sigmoid(),\n",
    "            # nn.Dropout(0.2),\n",
    "            nn.Linear(128, 64),\n",
    "            nn.Sigmoid(),\n",
    "#             nn.Dropout(0.2),\n",
    "            nn.Linear(64, 32),\n",
    "            nn.Sigmoid(),\n",
    "#             nn.Dropout(0.2),\n",
    "            nn.Linear(32, 16),\n",
    "            nn.ReLU(),\n",
    "#             nn.Dropout(0.2),\n",
    "            nn.Linear(16, 16),\n",
    "            nn.ReLU(),\n",
    "#             nn.Dropout(0.2),\n",
    "            nn.Linear(16, 32),\n",
    "            nn.ReLU(),\n",
    "#             nn.Dropout(0.2),\n",
    "            nn.Linear(32, 64),\n",
    "            nn.ReLU(),\n",
    "#             nn.Dropout(0.2),\n",
    "            nn.Linear(64, 1)\n",
    "        )\n",
    "\n",
    "    def forward(self, x):\n",
    "        return self.network(x)"
   ],
   "id": "2a9c5b225515fd82",
   "execution_count": 37,
   "outputs": []
  },
  {
   "metadata": {
    "ExecuteTime": {
     "end_time": "2024-10-11T22:53:31.518529Z",
     "start_time": "2024-10-11T22:53:31.509548Z"
    }
   },
   "cell_type": "code",
   "source": [
    "loss_history = [] # DO NOT DELETE\n",
    "input_size = X_train.shape[1]\n",
    "\n",
    "\n",
    "def train_model(model, train_loader, optimizer, criterion, epochs):\n",
    "    model.train()\n",
    "    for epoch in range(epochs):\n",
    "        running_loss = 0.0\n",
    "        for inputs, labels in train_loader:\n",
    "\n",
    "\n",
    "            inputs = inputs.view(-1, input_size)\n",
    "\n",
    "            outputs = model(inputs)\n",
    "\n",
    "            loss = criterion(outputs, labels)\n",
    "\n",
    "\n",
    "            optimizer.zero_grad()\n",
    "            loss.backward()\n",
    "\n",
    "\n",
    "            optimizer.step()\n",
    "\n",
    "            running_loss += loss.item()\n",
    "\n",
    "\n",
    "\n",
    "        print(f\"Epoch {epoch+1}/{epochs}, Loss: {running_loss/len(train_loader)}\")\n",
    "        loss_history.append(running_loss/len(train_loader))\n",
    "\n",
    "    print(\"Training complete!\")"
   ],
   "id": "6c380cf30e4318ea",
   "execution_count": 38,
   "outputs": []
  },
  {
   "metadata": {
    "ExecuteTime": {
     "end_time": "2024-10-12T01:18:16.406089Z",
     "start_time": "2024-10-12T01:08:51.432264Z"
    }
   },
   "cell_type": "code",
   "source": [
    "model = RegressionNN(input_size)\n",
    "criterion = nn.L1Loss()\n",
    "optimizer = optim.Adam(model.parameters(), lr=0.001)\n",
    "\n",
    "train_model(model,train_loader,optimizer,criterion,epochs=300)\n"
   ],
   "id": "e9122fe7980e9f8d",
   "execution_count": 57,
   "outputs": []
  },
  {
   "metadata": {
    "ExecuteTime": {
     "end_time": "2024-10-12T01:18:16.532389Z",
     "start_time": "2024-10-12T01:18:16.407088Z"
    }
   },
   "cell_type": "code",
   "source": [
    "# Plotting the loss over epochs\n",
    "plt.figure(figsize=(10, 6))\n",
    "plt.plot(range(1, len(loss_history) + 1), loss_history, marker='o')\n",
    "plt.title(\"Training Loss Over Epochs\")\n",
    "plt.xlabel(\"Epoch\")\n",
    "plt.ylabel(\"Loss\")\n",
    "plt.grid(True)\n",
    "plt.show()"
   ],
   "id": "423f51c74f160fcc",
   "execution_count": 58,
   "outputs": []
  },
  {
   "metadata": {
    "ExecuteTime": {
     "end_time": "2024-10-12T01:00:50.880888Z",
     "start_time": "2024-10-12T01:00:50.820860Z"
    }
   },
   "cell_type": "code",
   "source": [
    "def test_model(model, test_loader):\n",
    "    model.eval()\n",
    "    all_labels = []\n",
    "    all_outputs = []\n",
    "    with torch.no_grad():\n",
    "        for inputs, labels in test_loader:\n",
    "            outputs = model(inputs)\n",
    "            all_labels.extend(labels.numpy())\n",
    "            all_outputs.extend(outputs.numpy())\n",
    "    r2 = r2_score(all_labels, all_outputs)\n",
    "    mae = mean_absolute_error(all_labels, all_outputs)\n",
    "    \n",
    "    print(f\"Test R2 Score: {r2:.4f} MAE: {mae:.4f}\")\n",
    "    return r2\n",
    "test_model(model, test_loader)"
   ],
   "id": "e6aa114565fb5384",
   "execution_count": 54,
   "outputs": []
  },
  {
   "metadata": {
    "ExecuteTime": {
     "end_time": "2024-10-12T01:18:16.705023Z",
     "start_time": "2024-10-12T01:18:16.533729Z"
    }
   },
   "cell_type": "code",
   "source": [
    "model.eval()\n",
    "with torch.no_grad():\n",
    "    predictions = model(X_test_tensor).cpu().detach().numpy()\n",
    "    y_test_np = y_test_tensor.cpu().detach().numpy()\n",
    "\n",
    "plt.figure(figsize=(12, 6))\n",
    "plt.scatter(y_test_np, predictions, alpha=0.5, color='blue', label='Predicciones')\n",
    "plt.scatter(y_test_np, y_test_np, alpha=0.5, color='red', label='Valores reales')\n",
    "plt.plot([y_test_np.min(), y_test_np.max()], [y_test_np.min(), y_test_np.max()], 'r', lw=2)\n",
    "plt.title('Predicted vs Actual Values')\n",
    "plt.xlabel('Actual Values')\n",
    "plt.ylabel('Predicted Values')\n",
    "plt.legend()\n",
    "plt.show()"
   ],
   "id": "64e2e6bfb9e9fc33",
   "execution_count": 59,
   "outputs": []
  }
 ],
 "metadata": {
  "kernelspec": {
   "display_name": "Python 3",
   "language": "python",
   "name": "python3"
  },
  "language_info": {
   "codemirror_mode": {
    "name": "ipython",
    "version": 2
   },
   "file_extension": ".py",
   "mimetype": "text/x-python",
   "name": "python",
   "nbconvert_exporter": "python",
   "pygments_lexer": "ipython2",
   "version": "2.7.6"
  }
 },
 "nbformat": 4,
 "nbformat_minor": 5
}
