{
 "cells": [
  {
   "cell_type": "code",
   "id": "initial_id",
   "metadata": {
    "collapsed": true,
    "ExecuteTime": {
     "end_time": "2024-09-02T02:23:00.191722Z",
     "start_time": "2024-09-02T02:22:56.973733Z"
    }
   },
   "source": [
    "from PIL import Image\n",
    "import numpy as np\n",
    "\n",
    "# Abre la imagen TIFF\n",
    "imagen = Image.open('../data/20240826.tif')\n",
    "\n",
    "# Convierte la imagen a un array de numpy para manipular los datos\n",
    "datos = np.array(imagen)\n",
    "\n",
    "# Ahora puedes trabajar con los datos como un array de numpy\n",
    "print(datos.shape)  # Imprime la forma del array (ancho, alto, canales)\n",
    "\n",
    "# Si la imagen tiene múltiples capas, puedes acceder a ellas con un bucle\n",
    "for i in range(imagen.n_frames):\n",
    "    imagen.seek(i)\n",
    "    capa = np.array(imagen)\n",
    "    print(f\"Capa {i}: {capa.shape}\")\n"
   ],
   "outputs": [
    {
     "name": "stderr",
     "output_type": "stream",
     "text": [
      "D:\\Proyectos\\PANTALEON\\Pruebas\\.venv\\lib\\site-packages\\PIL\\Image.py:3368: DecompressionBombWarning: Image size (123904396 pixels) exceeds limit of 89478485 pixels, could be decompression bomb DOS attack.\n",
      "  warnings.warn(\n"
     ]
    },
    {
     "name": "stdout",
     "output_type": "stream",
     "text": [
      "(9562, 12958)\n",
      "Capa 0: (9562, 12958)\n"
     ]
    }
   ],
   "execution_count": 2
  }
 ],
 "metadata": {
  "kernelspec": {
   "display_name": "Python 3",
   "language": "python",
   "name": "python3"
  },
  "language_info": {
   "codemirror_mode": {
    "name": "ipython",
    "version": 2
   },
   "file_extension": ".py",
   "mimetype": "text/x-python",
   "name": "python",
   "nbconvert_exporter": "python",
   "pygments_lexer": "ipython2",
   "version": "2.7.6"
  }
 },
 "nbformat": 4,
 "nbformat_minor": 5
}
