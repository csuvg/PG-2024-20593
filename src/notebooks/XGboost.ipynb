{
 "cells": [
  {
   "cell_type": "code",
   "id": "initial_id",
   "metadata": {
    "collapsed": true,
    "ExecuteTime": {
     "end_time": "2024-09-17T02:31:25.335673Z",
     "start_time": "2024-09-17T02:31:22.212427Z"
    }
   },
   "source": [
    "import random\n",
    "import torch\n",
    "import numpy as np\n",
    "import pandas as pd\n",
    "import matplotlib.pyplot as plt\n",
    "from sklearn.model_selection import GridSearchCV\n",
    "from sklearn.metrics import mean_squared_error, r2_score, mean_absolute_error\n",
    "from sklearn.preprocessing import StandardScaler\n",
    "from xgboost import XGBRegressor\n"
   ],
   "execution_count": 1,
   "outputs": []
  },
  {
   "metadata": {
    "ExecuteTime": {
     "end_time": "2024-09-17T02:31:49.731472Z",
     "start_time": "2024-09-17T02:31:49.574873Z"
    }
   },
   "cell_type": "code",
   "source": [
    "\n",
    "# Seed all possible\n",
    "seed_ = 935115\n",
    "random.seed(seed_)\n",
    "np.random.seed(seed_)\n",
    "torch.manual_seed(seed_)\n",
    "\n",
    "# If using CUDA, you can set the seed for CUDA devices as well\n",
    "if torch.cuda.is_available():\n",
    "    torch.cuda.manual_seed(seed_)\n",
    "    torch.cuda.manual_seed_all(seed_)\n",
    "\n",
    "import torch.backends.cudnn as cudnn\n",
    "cudnn.deterministic = True\n",
    "cudnn.benchmark = False\n",
    "\n",
    "device = torch.device(\"cuda:0\" if torch.cuda.is_available() else \"cpu\")\n",
    "print(device)\n",
    "\n",
    "data = pd.read_csv('../data/PROCESS/encoded_tch_prediction_data_zafrav3pca.csv')\n",
    "\n",
    "# Crear una máscara para ZAFRA 23-24\n",
    "mask_23_24 = data['ZAFRA'] == '23-24'\n",
    "\n",
    "# Dividir los datos\n",
    "X_train = data[~mask_23_24].drop('TCH', axis=1)\n",
    "y_train = data[~mask_23_24]['TCH']\n",
    "X_test = data[mask_23_24].drop('TCH', axis=1)\n",
    "y_test = data[mask_23_24]['TCH']\n",
    "\n",
    "# Eliminar columnas innecesarias\n",
    "X_train = X_train.drop(columns=['ABS_IDCOMP', 'ZAFRA'])\n",
    "X_test = X_test.drop(columns=['ABS_IDCOMP', 'ZAFRA'])\n",
    "\n",
    "print(\"\\nDivisión por ZAFRA:\")\n",
    "print(f\"Forma del conjunto de entrenamiento: {X_train.shape}\")\n",
    "print(f\"Forma del conjunto de prueba: {X_test.shape}\")\n"
   ],
   "id": "75b784c36739c09e",
   "execution_count": 2,
   "outputs": []
  },
  {
   "metadata": {
    "ExecuteTime": {
     "end_time": "2024-09-17T02:40:12.633406Z",
     "start_time": "2024-09-17T02:38:06.795944Z"
    }
   },
   "cell_type": "code",
   "source": [
    "\n",
    "# Escalar las características\n",
    "scaler = StandardScaler()\n",
    "X_train_scaled = scaler.fit_transform(X_train)\n",
    "X_test_scaled = scaler.transform(X_test)\n",
    "\n",
    "# Definir la cuadrícula de hiperparámetros\n",
    "param_grid = {\n",
    "    'n_estimators': [50, 100, 200],\n",
    "    'max_depth': [3, 5, 7],\n",
    "    'learning_rate': [0.01, 0.1, 0.2],\n",
    "    'subsample': [0.8, 1.0],\n",
    "    'colsample_bytree': [0.8, 1.0],\n",
    "    'gamma': [0, 0.1, 0.2]\n",
    "}\n",
    "\n",
    "# Configurar el modelo y el GridSearchCV\n",
    "xgb_model = XGBRegressor(random_state=seed_)\n",
    "\n",
    "grid_search = GridSearchCV(\n",
    "    estimator=xgb_model,\n",
    "    param_grid=param_grid,\n",
    "    scoring='neg_mean_squared_error',\n",
    "    cv=5,\n",
    "    n_jobs=-1,\n",
    "    verbose=1\n",
    ")\n",
    "\n",
    "# Entrenar el modelo\n",
    "grid_search.fit(X_train_scaled, y_train.values.ravel())\n"
   ],
   "id": "5b83369f551d2dca",
   "execution_count": 5,
   "outputs": []
  },
  {
   "metadata": {
    "ExecuteTime": {
     "end_time": "2024-09-17T02:43:41.490430Z",
     "start_time": "2024-09-17T02:43:41.295906Z"
    }
   },
   "cell_type": "code",
   "source": [
    "\n",
    "# Obtener los mejores hiperparámetros\n",
    "print(\"Mejores hiperparámetros encontrados:\")\n",
    "print(grid_search.best_params_)\n",
    "\n",
    "# Evaluar en el conjunto de prueba\n",
    "y_pred = grid_search.predict(X_test_scaled)\n",
    "\n",
    "mse = mean_squared_error(y_test, y_pred)\n",
    "rmse = np.sqrt(mse)\n",
    "r2 = r2_score(y_test, y_pred)\n",
    "mae = mean_absolute_error(y_test, y_pred)\n",
    "\n",
    "print(f\"MSE: {mse}\")\n",
    "print(f\"RMSE: {rmse}\")\n",
    "print(f\"R^2: {r2}\")\n",
    "print(f\"MAE: {mae}\")\n",
    "\n",
    "# Visualizar resultados\n",
    "plt.figure(figsize=(10, 6))\n",
    "plt.scatter(y_test, y_pred, alpha=0.5)\n",
    "plt.plot([y_test.min(), y_test.max()], [y_test.min(), y_test.max()], 'r--')\n",
    "plt.xlabel('Valores Reales')\n",
    "plt.ylabel('Predicciones')\n",
    "plt.title('Predicciones vs Valores Reales')\n",
    "plt.show()\n"
   ],
   "id": "e8272a67b1547e63",
   "execution_count": 6,
   "outputs": []
  },
  {
   "metadata": {
    "ExecuteTime": {
     "end_time": "2024-09-17T02:48:35.203271Z",
     "start_time": "2024-09-17T02:48:35.186592Z"
    }
   },
   "cell_type": "code",
   "source": "y_pred",
   "id": "374dbaefea19d688",
   "execution_count": 7,
   "outputs": []
  }
 ],
 "metadata": {
  "kernelspec": {
   "display_name": "Python 3",
   "language": "python",
   "name": "python3"
  },
  "language_info": {
   "codemirror_mode": {
    "name": "ipython",
    "version": 2
   },
   "file_extension": ".py",
   "mimetype": "text/x-python",
   "name": "python",
   "nbconvert_exporter": "python",
   "pygments_lexer": "ipython2",
   "version": "2.7.6"
  }
 },
 "nbformat": 4,
 "nbformat_minor": 5
}
