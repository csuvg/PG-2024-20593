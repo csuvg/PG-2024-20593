{
 "cells": [
  {
   "cell_type": "code",
   "metadata": {
    "ExecuteTime": {
     "end_time": "2024-09-02T01:24:51.269587Z",
     "start_time": "2024-09-02T01:24:51.054855Z"
    }
   },
   "source": [
    "import pandas as pd\n",
    "pd.set_option('display.max_columns', None)\n",
    "\n",
    "segundo_dts = pd.read_csv('../data/PRUEBALUPE.csv',sep=';')"
   ],
   "outputs": [
    {
     "name": "stderr",
     "output_type": "stream",
     "text": [
      "C:\\Users\\angel\\AppData\\Local\\Temp\\ipykernel_39124\\3897865178.py:4: DtypeWarning: Columns (4) have mixed types. Specify dtype option on import or set low_memory=False.\n",
      "  segundo_dts = pd.read_csv('../data/PRUEBALUPE.csv',sep=';')\n"
     ]
    }
   ],
   "execution_count": 1
  },
  {
   "cell_type": "code",
   "execution_count": null,
   "metadata": {},
   "outputs": [],
   "source": [
    "segundo_dts.describe()"
   ]
  },
  {
   "cell_type": "code",
   "execution_count": null,
   "metadata": {},
   "outputs": [],
   "source": [
    "segundo_dts.columns"
   ]
  },
  {
   "cell_type": "code",
   "execution_count": 4,
   "metadata": {},
   "outputs": [],
   "source": [
    "segundo_dts.tail()"
   ]
  },
  {
   "cell_type": "code",
   "execution_count": 5,
   "metadata": {},
   "outputs": [],
   "source": [
    "\n",
    "columns_to_analyze = [\n",
    "    'valor Humedad 2 (con nubes)', 'leyenda Maduración', 'valor Maduración',\n",
    "    'leyenda Maduración 2 (con nubes)', 'valor Maduración 2 (con nubes)',\n",
    "    'leyenda Maleza'\n",
    "]\n",
    "\n",
    "# Crear un DataFrame para almacenar los resultados\n",
    "results = pd.DataFrame(columns=['Column', 'Total', 'Non-NaN', 'NaN'])\n",
    "\n",
    "# Crear una lista para almacenar los resultados\n",
    "results_list = []\n",
    "\n",
    "# Calcular los valores para cada columna\n",
    "for column in columns_to_analyze:\n",
    "    total = segundo_dts[column].shape[0]\n",
    "    non_nan = segundo_dts[column].notna().sum()\n",
    "    nan = segundo_dts[column].isna().sum()\n",
    "    results_list.append({'Column': column, 'Total': total, 'Non-NaN': non_nan, 'NaN': nan})\n",
    "\n",
    "# Convertir la lista de resultados a un DataFrame\n",
    "results = pd.DataFrame(results_list)\n",
    "\n",
    "# Mostrar los resultados\n",
    "print(results)"
   ]
  }
 ],
 "metadata": {
  "kernelspec": {
   "display_name": "Python 3",
   "language": "python",
   "name": "python3"
  },
  "language_info": {
   "codemirror_mode": {
    "name": "ipython",
    "version": 3
   },
   "file_extension": ".py",
   "mimetype": "text/x-python",
   "name": "python",
   "nbconvert_exporter": "python",
   "pygments_lexer": "ipython3",
   "version": "3.10.11"
  }
 },
 "nbformat": 4,
 "nbformat_minor": 2
}
