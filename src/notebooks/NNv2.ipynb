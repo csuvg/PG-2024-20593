{
 "cells": [
  {
   "cell_type": "code",
   "id": "initial_id",
   "metadata": {
    "collapsed": true,
    "ExecuteTime": {
     "end_time": "2024-10-31T04:06:57.442395Z",
     "start_time": "2024-10-31T04:06:57.403143Z"
    }
   },
   "source": [
    "import random\n",
    "import torch\n",
    "import numpy as np\n",
    "import pandas as pd\n",
    "import torch.nn as nn\n",
    "import torch.optim as optim\n",
    "import torch.nn.functional as F\n",
    "import torch.utils.data as data\n",
    "import matplotlib.pyplot as plt\n",
    "from torch.optim.lr_scheduler import StepLR\n",
    "from torch.utils.data import Dataset, DataLoader\n",
    "from torch.utils.tensorboard import SummaryWriter\n",
    "from sklearn.model_selection import train_test_split\n",
    "from sklearn.ensemble import RandomForestRegressor\n",
    "from sklearn.metrics import mean_squared_error, r2_score\n",
    "from sklearn.metrics import accuracy_score, log_loss\n",
    "from sklearn.metrics import mean_absolute_error\n",
    "from sklearn.preprocessing import StandardScaler\n",
    "# Realizar Grid Search\n",
    "from itertools import product\n",
    "\n",
    "\n",
    "\n",
    "# Seed all possible\n",
    "seed_ = 935115\n",
    "random.seed(seed_)\n",
    "np.random.seed(seed_)\n",
    "torch.manual_seed(seed_)\n",
    "\n",
    "# If using CUDA, you can set the seed for CUDA devices as well\n",
    "if torch.cuda.is_available():\n",
    "    torch.cuda.manual_seed(seed_)\n",
    "    torch.cuda.manual_seed_all(seed_)\n",
    "    \n",
    "import torch.backends.cudnn as cudnn\n",
    "cudnn.deterministic = True\n",
    "cudnn.benchmark = False\n",
    "\n",
    "device = torch.device(\"cuda:0\" if torch.cuda.is_available() else \"cpu\")\n",
    "print(device)"
   ],
   "outputs": [
    {
     "name": "stdout",
     "output_type": "stream",
     "text": [
      "cuda:0\n"
     ]
    }
   ],
   "execution_count": 9
  },
  {
   "metadata": {
    "ExecuteTime": {
     "end_time": "2024-10-31T04:07:10.395456Z",
     "start_time": "2024-10-31T04:06:57.443410Z"
    }
   },
   "cell_type": "code",
   "source": [
    "intervals = [2, 4, 6, 8, 10]\n",
    "for months in intervals:\n",
    "        # Load saved data and create train-test split for each month interval\n",
    "    data = pd.read_csv(f'../data/PROCESS/processed_tch_prediction_data_{months}Mesv7.csv')\n",
    "\n",
    "    # Create a mask for ZAFRA 23-24\n",
    "    mask_22_23 = data['ZAFRA'] == '23-24'\n",
    "\n",
    "    # Split the data\n",
    "    X_train = data[~mask_22_23].drop('TCH', axis=1)\n",
    "    y_train = data[~mask_22_23]['TCH']\n",
    "    X_test = data[mask_22_23].drop('TCH', axis=1)\n",
    "    y_test = data[mask_22_23]['TCH']\n",
    "\n",
    "    # Drop unnecessary columns\n",
    "    X_train = X_train.drop(columns=['ABS_IDCOMP', 'ZAFRA','fecha','rendimiento'])\n",
    "    X_test = X_test.drop(columns=['ABS_IDCOMP', 'ZAFRA','fecha','rendimiento'])\n",
    "\n",
    "    # Save train and test datasets to CSV\n",
    "    data[~mask_22_23].drop(columns=['ABS_IDCOMP', 'ZAFRA','fecha','rendimiento']).to_csv(f'../data/UP/TRAIN_{months}Mesv7.csv', index=False)\n",
    "    data[mask_22_23].drop(columns=['ABS_IDCOMP', 'ZAFRA','fecha','rendimiento']).to_csv(f'../data/UP/TEST_{months}Mesv7.csv', index=False)"
   ],
   "id": "921fbfc87e0b7fba",
   "outputs": [],
   "execution_count": 10
  },
  {
   "metadata": {
    "ExecuteTime": {
     "end_time": "2024-10-31T04:07:10.410575Z",
     "start_time": "2024-10-31T04:07:10.396315Z"
    }
   },
   "cell_type": "code",
   "source": "",
   "id": "81860160bde6c4ba",
   "outputs": [],
   "execution_count": 10
  },
  {
   "cell_type": "code",
   "id": "2d0acc10a644cf97",
   "metadata": {
    "ExecuteTime": {
     "end_time": "2024-10-31T04:07:11.407740Z",
     "start_time": "2024-10-31T04:07:10.411557Z"
    }
   },
   "source": [
    "data = pd.read_csv('../data/PROCESS/encoded_tch_prediction_data_zafrav3.2.csv')\n",
    "\n",
    "# Create a mask for ZAFRA 22-23\n",
    "mask_22_23 = data['ZAFRA'] == '23-24'\n",
    "\n",
    "# Split the data\n",
    "X_train = data[~mask_22_23].drop('TCH', axis=1)\n",
    "y_train = data[~mask_22_23]['TCH']\n",
    "X_test = data[mask_22_23].drop('TCH', axis=1)\n",
    "y_test = data[mask_22_23]['TCH']\n",
    "\n",
    "X_train = X_train.drop(columns=['ABS_IDCOMP','ZAFRA'])\n",
    "y_train = y_train.drop(columns=['ABS_IDCOMP','ZAFRA'])\n",
    "X_test = X_test.drop(columns=['ABS_IDCOMP','ZAFRA'])\n",
    "y_test = y_test.drop(columns=['ABS_IDCOMP','ZAFRA'])\n",
    "\n",
    "print(\"\\nZAFRA Split:\")\n",
    "print(f\"Training set shape: {X_train.shape}\")\n",
    "print(f\"Testing set shape: {X_test.shape}\")\n",
    "\n",
    "data[~mask_22_23].to_csv('../data/UP/TRAIN.csv',index=False)\n",
    "data[mask_22_23].to_csv('../data/UP/TEST.csv',index=False)\n"
   ],
   "outputs": [
    {
     "name": "stdout",
     "output_type": "stream",
     "text": [
      "\n",
      "ZAFRA Split:\n",
      "Training set shape: (11480, 93)\n",
      "Testing set shape: (1805, 93)\n"
     ]
    }
   ],
   "execution_count": 11
  },
  {
   "cell_type": "code",
   "id": "6ba630ae311ff7d7",
   "metadata": {
    "ExecuteTime": {
     "end_time": "2024-10-31T04:07:11.438281Z",
     "start_time": "2024-10-31T04:07:11.408632Z"
    }
   },
   "source": [
    "\n",
    "# Scale the features\n",
    "scaler = StandardScaler()\n",
    "X_train_scaled = scaler.fit_transform(X_train)\n",
    "X_test_scaled = scaler.transform(X_test)\n",
    "\n",
    "# Convert to PyTorch tensors\n",
    "X_train_tensor = torch.FloatTensor(X_train_scaled)\n",
    "y_train_tensor = torch.FloatTensor(y_train.values).unsqueeze(1)\n",
    "X_test_tensor = torch.FloatTensor(X_test_scaled)\n",
    "y_test_tensor = torch.FloatTensor(y_test.values).unsqueeze(1)\n",
    "\n",
    "X_train = X_train_tensor \n",
    "y_train = y_train_tensor\n",
    "X_test = X_test_tensor\n",
    "y_test = y_test_tensor"
   ],
   "outputs": [],
   "execution_count": 12
  },
  {
   "cell_type": "code",
   "id": "6a902b5e14928ea9",
   "metadata": {
    "ExecuteTime": {
     "end_time": "2024-10-31T04:07:11.454714Z",
     "start_time": "2024-10-31T04:07:11.439266Z"
    }
   },
   "source": [
    "# Dividir X_test en X_val y X_test\n",
    "X_val_tensor, X_test_tensor, y_val_tensor, y_test_tensor = train_test_split(\n",
    "    X_test_tensor, y_test_tensor, test_size=0.5, random_state=42)\n",
    "\n"
   ],
   "outputs": [],
   "execution_count": 13
  },
  {
   "cell_type": "code",
   "id": "3fdb8fb7c1621480",
   "metadata": {
    "ExecuteTime": {
     "end_time": "2024-10-31T04:07:11.484464Z",
     "start_time": "2024-10-31T04:07:11.456401Z"
    }
   },
   "source": [
    "\n",
    "\n",
    "\n",
    "# Definir la función para calcular R^2\n",
    "def calculate_r2(y_true, y_pred):\n",
    "    ss_res = ((y_true - y_pred) ** 2).sum()\n",
    "    ss_tot = ((y_true - y_true.mean()) ** 2).sum()\n",
    "    r2 = 1 - ss_res / ss_tot\n",
    "    return r2.item()\n",
    "\n",
    "# Clase Net (la misma que proporcioné antes)\n",
    "class Net(nn.Module):\n",
    "    def __init__(self, input_size,N=16):\n",
    "        super(Net, self).__init__()\n",
    "        \n",
    "        output_size = 1  # Para regresión\n",
    "        \n",
    "        # Definir el tamaño máximo como un múltiplo del tamaño de entrada\n",
    "        peak_size = input_size * 4  # Ajustar el multiplicador según sea necesario\n",
    "        \n",
    "        # Inicializar la lista de tamaños de capas\n",
    "        layer_sizes = []\n",
    "        \n",
    "        # Capas ascendentes\n",
    "        for i in range(N // 2):\n",
    "            size = input_size + int((peak_size - input_size) * (i + 1) / (N // 2))\n",
    "            layer_sizes.append(size)\n",
    "        \n",
    "        # Capas descendentes\n",
    "        for i in range(N // 2):\n",
    "            size = peak_size - int((peak_size - output_size) * (i + 1) / (N // 2))\n",
    "            layer_sizes.append(size)\n",
    "        \n",
    "        # Definir las capas\n",
    "        self.layers = nn.ModuleList()\n",
    "        prev_size = input_size\n",
    "        for size in layer_sizes:\n",
    "            self.layers.append(nn.Linear(prev_size, size))\n",
    "            prev_size = size\n",
    "        self.layers.append(nn.Linear(prev_size, output_size))  # Capa de salida\n",
    "        \n",
    "        print(layer_sizes)\n",
    "        \n",
    "        # Activaciones\n",
    "        self.sigmoid = nn.Sigmoid()\n",
    "        self.leaky_relu = nn.LeakyReLU()\n",
    "        self.relu = nn.ReLU()\n",
    "        self.dropout = nn.Dropout(0.25)\n",
    "    \n",
    "    def forward(self, x):\n",
    "        N = len(self.layers)\n",
    "        for i, layer in enumerate(self.layers[:-1]):  # Excluir la última capa\n",
    "            x = layer(x)\n",
    "            \n",
    "            # Activaciones: sigmoid al principio, luego leaky ReLU, luego ReLU\n",
    "            if i < N // 3:\n",
    "                x = self.sigmoid(x)\n",
    "            elif i < 2 * N // 3:\n",
    "                x = self.leaky_relu(x)\n",
    "            else:\n",
    "                x = self.relu(x)\n",
    "            \n",
    "            # Dropout cada dos capas ocultas\n",
    "            if (i + 1) % 2 == 0:\n",
    "                x = self.dropout(x)\n",
    "        \n",
    "        # Capa final sin activación (para regresión)\n",
    "        x = self.layers[-1](x)\n",
    "        return x\n",
    "\n",
    "    # Función de pérdida L1\n",
    "    def l1_loss(self):\n",
    "        l1_loss = 0\n",
    "        for param in self.parameters():\n",
    "            l1_loss += torch.sum(torch.abs(param))\n",
    "        return l1_loss\n",
    "\n",
    "    # Función de pérdida L2\n",
    "    def l2_loss(self):\n",
    "        l2_loss = 0\n",
    "        for param in self.parameters():\n",
    "            l2_loss += torch.sum(param.pow(2))\n",
    "        return l2_loss\n",
    "\n",
    "\n",
    "# Definir una función para entrenar el modelo con hiperparámetros específicos\n",
    "def train_model(model, criterion, optimizer, scheduler,\n",
    "                X_train, y_train, X_val, y_val,\n",
    "                num_epochs=100, l1_lambda=0.01, l2_lambda=0.01,\n",
    "                early_stopping_patience=10, batch_size=32, writer=None):\n",
    "\n",
    "    # Initialize variables for early stopping\n",
    "    mini_best_val_loss = np.inf\n",
    "    patience_counter = 0\n",
    "    # mini_best_model_state = None\n",
    "\n",
    "    # Create DataLoader for batch handling\n",
    "    train_dataset = torch.utils.data.TensorDataset(X_train, y_train)\n",
    "    train_loader = torch.utils.data.DataLoader(train_dataset, batch_size=batch_size, shuffle=True)\n",
    "    \n",
    "    for epoch in range(num_epochs):\n",
    "        # Training\n",
    "        model.train()\n",
    "        epoch_loss = 0\n",
    "        for batch_X, batch_y in train_loader:\n",
    "            outputs = model(batch_X)\n",
    "            loss = criterion(outputs, batch_y)\n",
    "            \n",
    "            # l1_reg = l1_lambda * model.l1_loss()\n",
    "            # l2_reg = l2_lambda * model.l2_loss()\n",
    "            # loss = loss + l1_reg + l2_reg\n",
    "            \n",
    "            optimizer.zero_grad()\n",
    "            loss.backward()\n",
    "            optimizer.step()\n",
    "            epoch_loss += loss.item()\n",
    "        \n",
    "        # Update learning rate\n",
    "        scheduler.step()\n",
    "        \n",
    "        # Validation evaluation\n",
    "        model.eval()\n",
    "        with torch.no_grad():\n",
    "            val_outputs = model(X_val)\n",
    "            val_loss = criterion(val_outputs, y_val)\n",
    "            val_r2 = calculate_r2(y_val, val_outputs)\n",
    "        \n",
    "        # Log to TensorBoard\n",
    "        if writer:\n",
    "            writer.add_scalar('Loss/train', epoch_loss / len(train_loader), epoch)\n",
    "            writer.add_scalar('Loss/val', val_loss.item(), epoch)\n",
    "            writer.add_scalar('R2/val', val_r2, epoch)\n",
    "            writer.add_scalar('Learning Rate', scheduler.get_last_lr()[0], epoch)\n",
    "        \n",
    "        # Early Stopping\n",
    "        if val_loss.item() < mini_best_val_loss:\n",
    "            mini_best_val_loss = val_loss.item()\n",
    "            patience_counter = 0\n",
    "            # Save the best model state\n",
    "            mini_best_model_state = model.state_dict()\n",
    "        else:\n",
    "            patience_counter += 1\n",
    "        \n",
    "        if patience_counter >= early_stopping_patience:\n",
    "            print(f'Early stopping at epoch {epoch+1}')\n",
    "            break\n",
    "        \n",
    "        # Display metrics every 50 epochs\n",
    "        if (epoch + 1) % 50 == 0:\n",
    "            print(f'Epoch [{epoch + 1}/{num_epochs}], LR: {scheduler.get_last_lr()[0]:.6f}, '\n",
    "                  f'Train Loss: {epoch_loss / len(train_loader):.4f}, Val Loss: {val_loss.item():.4f}, '\n",
    "                  f'Val R^2: {val_r2:.4f}')\n",
    "    \n",
    "    # Load the best model state\n",
    "    model.load_state_dict(mini_best_model_state)\n",
    "    \n",
    "    return model\n",
    "\n",
    "# Definir los hiperparámetros para el Grid Search\n",
    "param_grid = {\n",
    "    'learning_rate': [0.1,0.01, 0.001],\n",
    "    'l1_lambda': [0.0, 0.001],\n",
    "    'l2_lambda': [0.0, 0.001],\n",
    "    'batch_size': [1024],\n",
    "    'num_epochs': [200],\n",
    "    'optimizer_type': ['Adam', 'SGD'],\n",
    "    'criterion': ['MSE', 'MAE','SmoothL1Loss'],\n",
    "}\n",
    "# Obtener todas las combinaciones de hiperparámetros\n",
    "keys = param_grid.keys()\n",
    "values = (param_grid[key] for key in keys)\n",
    "param_combinations = [dict(zip(keys, combination)) for combination in product(*values)]\n",
    "\n",
    "best_model = None\n",
    "best_val_r2 = -np.inf\n",
    "best_params = None\n",
    "best_model_state = None\n"
   ],
   "outputs": [],
   "execution_count": 14
  },
  {
   "cell_type": "code",
   "execution_count": 46,
   "id": "73aef52fa612dd5b",
   "metadata": {
    "ExecuteTime": {
     "end_time": "2024-09-16T00:30:57.595191Z",
     "start_time": "2024-09-16T00:26:36.485190Z"
    }
   },
   "outputs": [
    {
     "name": "stdout",
     "output_type": "stream",
     "text": [
      "Evaluating combination: {'learning_rate': 0.1, 'l1_lambda': 0.0, 'l2_lambda': 0.0, 'batch_size': 1024, 'num_epochs': 200, 'optimizer_type': 'Adam', 'criterion': 'MSE'}\n",
      "Epoch [50/200], LR: 0.010000, Train Loss: 4966.5267, Val Loss: 4928.9785, Val R^2: -8.2665\n",
      "Epoch [100/200], LR: 0.000100, Train Loss: 4745.6200, Val Loss: 4746.7148, Val R^2: -7.9239\n",
      "Epoch [150/200], LR: 0.000001, Train Loss: 4767.2532, Val Loss: 4743.2217, Val R^2: -7.9173\n",
      "Early stopping at epoch 160\n",
      "Validation R^2: -7.9173\n",
      "Evaluating combination: {'learning_rate': 0.1, 'l1_lambda': 0.0, 'l2_lambda': 0.0, 'batch_size': 1024, 'num_epochs': 200, 'optimizer_type': 'Adam', 'criterion': 'MAE'}\n",
      "Epoch [50/200], LR: 0.010000, Train Loss: 53.1948, Val Loss: 49.5514, Val R^2: -4.6155\n",
      "Epoch [100/200], LR: 0.000100, Train Loss: 51.1866, Val Loss: 47.2790, Val R^2: -4.1979\n",
      "Epoch [150/200], LR: 0.000001, Train Loss: 51.0880, Val Loss: 47.2375, Val R^2: -4.1904\n",
      "Early stopping at epoch 160\n",
      "Validation R^2: -4.1904\n",
      "Evaluating combination: {'learning_rate': 0.1, 'l1_lambda': 0.0, 'l2_lambda': 0.0, 'batch_size': 1024, 'num_epochs': 200, 'optimizer_type': 'Adam', 'criterion': 'SmoothL1Loss'}\n",
      "Epoch [50/200], LR: 0.010000, Train Loss: 63.2101, Val Loss: 62.1665, Val R^2: -7.3830\n",
      "Epoch [100/200], LR: 0.000100, Train Loss: 61.6351, Val Loss: 60.5950, Val R^2: -7.0173\n",
      "Epoch [150/200], LR: 0.000001, Train Loss: 61.6369, Val Loss: 60.5671, Val R^2: -7.0109\n",
      "Early stopping at epoch 160\n",
      "Validation R^2: -7.0109\n",
      "Evaluating combination: {'learning_rate': 0.1, 'l1_lambda': 0.0, 'l2_lambda': 0.0, 'batch_size': 1024, 'num_epochs': 200, 'optimizer_type': 'SGD', 'criterion': 'MSE'}\n",
      "Early stopping at epoch 10\n"
     ]
    },
    {
     "ename": "UnboundLocalError",
     "evalue": "local variable 'mini_best_model_state' referenced before assignment",
     "output_type": "error",
     "traceback": [
      "\u001B[1;31m---------------------------------------------------------------------------\u001B[0m",
      "\u001B[1;31mUnboundLocalError\u001B[0m                         Traceback (most recent call last)",
      "Cell \u001B[1;32mIn[46], line 31\u001B[0m\n\u001B[0;32m     28\u001B[0m writer \u001B[38;5;241m=\u001B[39m SummaryWriter(comment\u001B[38;5;241m=\u001B[39m\u001B[38;5;124mf\u001B[39m\u001B[38;5;124m\"\u001B[39m\u001B[38;5;124mLR_\u001B[39m\u001B[38;5;132;01m{\u001B[39;00mparams[\u001B[38;5;124m'\u001B[39m\u001B[38;5;124mlearning_rate\u001B[39m\u001B[38;5;124m'\u001B[39m]\u001B[38;5;132;01m}\u001B[39;00m\u001B[38;5;124m_L1_\u001B[39m\u001B[38;5;132;01m{\u001B[39;00mparams[\u001B[38;5;124m'\u001B[39m\u001B[38;5;124ml1_lambda\u001B[39m\u001B[38;5;124m'\u001B[39m]\u001B[38;5;132;01m}\u001B[39;00m\u001B[38;5;124m_L2_\u001B[39m\u001B[38;5;132;01m{\u001B[39;00mparams[\u001B[38;5;124m'\u001B[39m\u001B[38;5;124ml2_lambda\u001B[39m\u001B[38;5;124m'\u001B[39m]\u001B[38;5;132;01m}\u001B[39;00m\u001B[38;5;124m_BS_\u001B[39m\u001B[38;5;132;01m{\u001B[39;00mparams[\u001B[38;5;124m'\u001B[39m\u001B[38;5;124mbatch_size\u001B[39m\u001B[38;5;124m'\u001B[39m]\u001B[38;5;132;01m}\u001B[39;00m\u001B[38;5;124m_OPT_\u001B[39m\u001B[38;5;132;01m{\u001B[39;00mparams[\u001B[38;5;124m'\u001B[39m\u001B[38;5;124moptimizer_type\u001B[39m\u001B[38;5;124m'\u001B[39m]\u001B[38;5;132;01m}\u001B[39;00m\u001B[38;5;124m\"\u001B[39m)\n\u001B[0;32m     30\u001B[0m \u001B[38;5;66;03m# Entrenar el modelo\u001B[39;00m\n\u001B[1;32m---> 31\u001B[0m trained_model \u001B[38;5;241m=\u001B[39m \u001B[43mtrain_model\u001B[49m\u001B[43m(\u001B[49m\n\u001B[0;32m     32\u001B[0m \u001B[43m    \u001B[49m\u001B[43mmodel\u001B[49m\u001B[43m,\u001B[49m\u001B[43m \u001B[49m\u001B[43mcriterion\u001B[49m\u001B[43m,\u001B[49m\u001B[43m \u001B[49m\u001B[43moptimizer\u001B[49m\u001B[43m,\u001B[49m\u001B[43m \u001B[49m\u001B[43mscheduler\u001B[49m\u001B[43m,\u001B[49m\n\u001B[0;32m     33\u001B[0m \u001B[43m    \u001B[49m\u001B[43mX_train_tensor\u001B[49m\u001B[43m,\u001B[49m\u001B[43m \u001B[49m\u001B[43my_train_tensor\u001B[49m\u001B[43m,\u001B[49m\n\u001B[0;32m     34\u001B[0m \u001B[43m    \u001B[49m\u001B[43mX_val_tensor\u001B[49m\u001B[43m,\u001B[49m\u001B[43m \u001B[49m\u001B[43my_val_tensor\u001B[49m\u001B[43m,\u001B[49m\n\u001B[0;32m     35\u001B[0m \u001B[43m    \u001B[49m\u001B[43mnum_epochs\u001B[49m\u001B[38;5;241;43m=\u001B[39;49m\u001B[43mparams\u001B[49m\u001B[43m[\u001B[49m\u001B[38;5;124;43m'\u001B[39;49m\u001B[38;5;124;43mnum_epochs\u001B[39;49m\u001B[38;5;124;43m'\u001B[39;49m\u001B[43m]\u001B[49m\u001B[43m,\u001B[49m\n\u001B[0;32m     36\u001B[0m \u001B[43m    \u001B[49m\u001B[43ml1_lambda\u001B[49m\u001B[38;5;241;43m=\u001B[39;49m\u001B[43mparams\u001B[49m\u001B[43m[\u001B[49m\u001B[38;5;124;43m'\u001B[39;49m\u001B[38;5;124;43ml1_lambda\u001B[39;49m\u001B[38;5;124;43m'\u001B[39;49m\u001B[43m]\u001B[49m\u001B[43m,\u001B[49m\n\u001B[0;32m     37\u001B[0m \u001B[43m    \u001B[49m\u001B[43ml2_lambda\u001B[49m\u001B[38;5;241;43m=\u001B[39;49m\u001B[43mparams\u001B[49m\u001B[43m[\u001B[49m\u001B[38;5;124;43m'\u001B[39;49m\u001B[38;5;124;43ml2_lambda\u001B[39;49m\u001B[38;5;124;43m'\u001B[39;49m\u001B[43m]\u001B[49m\u001B[43m,\u001B[49m\n\u001B[0;32m     38\u001B[0m \u001B[43m    \u001B[49m\u001B[43mbatch_size\u001B[49m\u001B[38;5;241;43m=\u001B[39;49m\u001B[43mparams\u001B[49m\u001B[43m[\u001B[49m\u001B[38;5;124;43m'\u001B[39;49m\u001B[38;5;124;43mbatch_size\u001B[39;49m\u001B[38;5;124;43m'\u001B[39;49m\u001B[43m]\u001B[49m\u001B[43m,\u001B[49m\n\u001B[0;32m     39\u001B[0m \u001B[43m    \u001B[49m\u001B[43mwriter\u001B[49m\u001B[38;5;241;43m=\u001B[39;49m\u001B[43mwriter\u001B[49m\n\u001B[0;32m     40\u001B[0m \u001B[43m\u001B[49m\u001B[43m)\u001B[49m\n\u001B[0;32m     42\u001B[0m \u001B[38;5;66;03m# Evaluar en el conjunto de validación\u001B[39;00m\n\u001B[0;32m     43\u001B[0m model\u001B[38;5;241m.\u001B[39meval()\n",
      "Cell \u001B[1;32mIn[45], line 152\u001B[0m, in \u001B[0;36mtrain_model\u001B[1;34m(model, criterion, optimizer, scheduler, X_train, y_train, X_val, y_val, num_epochs, l1_lambda, l2_lambda, early_stopping_patience, batch_size, writer)\u001B[0m\n\u001B[0;32m    147\u001B[0m         \u001B[38;5;28mprint\u001B[39m(\u001B[38;5;124mf\u001B[39m\u001B[38;5;124m'\u001B[39m\u001B[38;5;124mEpoch [\u001B[39m\u001B[38;5;132;01m{\u001B[39;00mepoch\u001B[38;5;250m \u001B[39m\u001B[38;5;241m+\u001B[39m\u001B[38;5;250m \u001B[39m\u001B[38;5;241m1\u001B[39m\u001B[38;5;132;01m}\u001B[39;00m\u001B[38;5;124m/\u001B[39m\u001B[38;5;132;01m{\u001B[39;00mnum_epochs\u001B[38;5;132;01m}\u001B[39;00m\u001B[38;5;124m], LR: \u001B[39m\u001B[38;5;132;01m{\u001B[39;00mscheduler\u001B[38;5;241m.\u001B[39mget_last_lr()[\u001B[38;5;241m0\u001B[39m]\u001B[38;5;132;01m:\u001B[39;00m\u001B[38;5;124m.6f\u001B[39m\u001B[38;5;132;01m}\u001B[39;00m\u001B[38;5;124m, \u001B[39m\u001B[38;5;124m'\u001B[39m\n\u001B[0;32m    148\u001B[0m               \u001B[38;5;124mf\u001B[39m\u001B[38;5;124m'\u001B[39m\u001B[38;5;124mTrain Loss: \u001B[39m\u001B[38;5;132;01m{\u001B[39;00mepoch_loss\u001B[38;5;250m \u001B[39m\u001B[38;5;241m/\u001B[39m\u001B[38;5;250m \u001B[39m\u001B[38;5;28mlen\u001B[39m(train_loader)\u001B[38;5;132;01m:\u001B[39;00m\u001B[38;5;124m.4f\u001B[39m\u001B[38;5;132;01m}\u001B[39;00m\u001B[38;5;124m, Val Loss: \u001B[39m\u001B[38;5;132;01m{\u001B[39;00mval_loss\u001B[38;5;241m.\u001B[39mitem()\u001B[38;5;132;01m:\u001B[39;00m\u001B[38;5;124m.4f\u001B[39m\u001B[38;5;132;01m}\u001B[39;00m\u001B[38;5;124m, \u001B[39m\u001B[38;5;124m'\u001B[39m\n\u001B[0;32m    149\u001B[0m               \u001B[38;5;124mf\u001B[39m\u001B[38;5;124m'\u001B[39m\u001B[38;5;124mVal R^2: \u001B[39m\u001B[38;5;132;01m{\u001B[39;00mval_r2\u001B[38;5;132;01m:\u001B[39;00m\u001B[38;5;124m.4f\u001B[39m\u001B[38;5;132;01m}\u001B[39;00m\u001B[38;5;124m'\u001B[39m)\n\u001B[0;32m    151\u001B[0m \u001B[38;5;66;03m# Load the best model state\u001B[39;00m\n\u001B[1;32m--> 152\u001B[0m model\u001B[38;5;241m.\u001B[39mload_state_dict(\u001B[43mmini_best_model_state\u001B[49m)\n\u001B[0;32m    154\u001B[0m \u001B[38;5;28;01mreturn\u001B[39;00m model\n",
      "\u001B[1;31mUnboundLocalError\u001B[0m: local variable 'mini_best_model_state' referenced before assignment"
     ]
    }
   ],
   "source": [
    "\n",
    "# Realizar Grid Search\n",
    "from itertools import product\n",
    "\n",
    "\n",
    "for params in param_combinations:\n",
    "    print(f\"Evaluating combination: {params}\")\n",
    "    \n",
    "    # Crear nuevo modelo\n",
    "    input_size = X_train_tensor.shape[1]\n",
    "    model = Net(input_size)\n",
    "    \n",
    "    # Definir criterio y optimizador según los parámetros\n",
    "    if params['criterion'] == 'MSE':\n",
    "        criterion = nn.MSELoss()\n",
    "    elif params['criterion'] == 'MAE':\n",
    "        criterion = nn.L1Loss()\n",
    "    elif params['criterion'] == 'SmoothL1Loss':\n",
    "        criterion = nn.SmoothL1Loss()\n",
    "    \n",
    "    if params['optimizer_type'] == 'Adam':\n",
    "        optimizer = optim.Adam(model.parameters(), lr=params['learning_rate'])\n",
    "    elif params['optimizer_type'] == 'SGD':\n",
    "        optimizer = optim.SGD(model.parameters(), lr=params['learning_rate'], momentum=0.9)\n",
    "    \n",
    "    scheduler = StepLR(optimizer, step_size=30, gamma=0.1)\n",
    "    \n",
    "    # Inicializar TensorBoard\n",
    "    writer = SummaryWriter(comment=f\"LR_{params['learning_rate']}_L1_{params['l1_lambda']}_L2_{params['l2_lambda']}_BS_{params['batch_size']}_OPT_{params['optimizer_type']}\")\n",
    "    \n",
    "    # Entrenar el modelo\n",
    "    trained_model = train_model(\n",
    "        model, criterion, optimizer, scheduler,\n",
    "        X_train_tensor, y_train_tensor,\n",
    "        X_val_tensor, y_val_tensor,\n",
    "        num_epochs=params['num_epochs'],\n",
    "        l1_lambda=params['l1_lambda'],\n",
    "        l2_lambda=params['l2_lambda'],\n",
    "        batch_size=params['batch_size'],\n",
    "        writer=writer\n",
    "    )\n",
    "    \n",
    "    # Evaluar en el conjunto de validación\n",
    "    model.eval()\n",
    "    with torch.no_grad():\n",
    "        val_outputs = model(X_val_tensor)\n",
    "        val_r2 = calculate_r2(y_val_tensor, val_outputs)\n",
    "    \n",
    "    print(f\"Validation R^2: {val_r2:.4f}\")\n",
    "    \n",
    "    # Cerrar el escritor de TensorBoard\n",
    "    writer.close()\n",
    "    \n",
    "    # Guardar el mejor modelo\n",
    "    if val_r2 > best_val_r2:\n",
    "        best_val_r2 = val_r2\n",
    "        best_model = trained_model\n",
    "        best_params = params\n",
    "        best_model_state = trained_model.state_dict()\n",
    "\n",
    "print(f\"Best Validation R^2: {best_val_r2:.4f} with parameters {best_params}\")\n",
    "\n",
    "# Evaluar el mejor modelo en el conjunto de prueba\n",
    "best_model.eval()\n",
    "with torch.no_grad():\n",
    "    test_outputs = best_model(X_test_tensor)\n",
    "    test_r2 = calculate_r2(y_test_tensor, test_outputs)\n",
    "    test_loss = nn.MSELoss()(test_outputs, y_test_tensor)\n",
    "\n",
    "print(f\"Test Loss: {test_loss.item():.4f}, Test R^2: {test_r2:.4f}\")\n"
   ]
  },
  {
   "cell_type": "code",
   "id": "71a234a08a72d2f0",
   "metadata": {
    "ExecuteTime": {
     "end_time": "2024-10-31T04:11:35.347305Z",
     "start_time": "2024-10-31T04:11:10.544212Z"
    }
   },
   "source": [
    "best_params = {'learning_rate': 0.001, 'l1_lambda': 0.0, 'l2_lambda': 0.001, 'batch_size': 1024, 'num_epochs': 200, 'optimizer_type': 'SGD'}\n",
    "input_size = X_train_tensor.shape[1]\n",
    "model = Net(input_size,4)\n",
    "\n",
    "# Definir criterio y optimizador según los parámetros\n",
    "criterion = nn.MSELoss()\n",
    "\n",
    "optimizer = optim.SGD(model.parameters(), lr=best_params['learning_rate'], momentum=0.9)\n",
    "\n",
    "scheduler = StepLR(optimizer, step_size=30, gamma=0.1)\n",
    "\n",
    "# Inicializar TensorBoard\n",
    "writer = SummaryWriter(comment=\"FINAL MODEL\")\n",
    "\n",
    "# Entrenar el modelo\n",
    "trained_model = train_model(\n",
    "    model, criterion, optimizer, scheduler,\n",
    "    X_train_tensor, y_train_tensor,\n",
    "    X_val_tensor, y_val_tensor,\n",
    "    num_epochs=best_params['num_epochs'],\n",
    "    l1_lambda=best_params['l1_lambda'],\n",
    "    l2_lambda=best_params['l2_lambda'],\n",
    "    batch_size=2048,\n",
    "    writer=writer\n",
    ")\n",
    "\n",
    "# Evaluar en el conjunto de validación\n",
    "model.eval()\n",
    "with torch.no_grad():\n",
    "    val_outputs = model(X_val_tensor)\n",
    "    val_r2 = calculate_r2(y_val_tensor, val_outputs)\n",
    "    val_rmse = torch.sqrt(criterion(val_outputs, y_val_tensor))\n",
    "print(f\"Validation RMSE: {val_rmse:.4f}\")\n",
    "\n",
    "    \n",
    "\n",
    "print(f\"Validation R^2: {val_r2:.4f}\")\n",
    "\n",
    "\n",
    "# Cerrar el escritor de TensorBoard\n",
    "writer.close()\n",
    " \n",
    "\n",
    "\n",
    "\n"
   ],
   "outputs": [
    {
     "name": "stdout",
     "output_type": "stream",
     "text": [
      "[232, 372, 187, 1]\n",
      "Epoch [50/200], LR: 0.000100, Train Loss: 410.9633, Val Loss: 532.2156, Val R^2: -0.0006\n",
      "Epoch [100/200], LR: 0.000001, Train Loss: 410.7617, Val Loss: 532.0065, Val R^2: -0.0002\n",
      "Early stopping at epoch 130\n",
      "Validation RMSE: 23.0652\n",
      "Validation R^2: -0.0002\n"
     ]
    }
   ],
   "execution_count": 15
  },
  {
   "cell_type": "code",
   "id": "9da94a55e9f42018",
   "metadata": {
    "ExecuteTime": {
     "end_time": "2024-10-31T04:11:35.517384Z",
     "start_time": "2024-10-31T04:11:35.348282Z"
    }
   },
   "source": [
    "\n",
    "model.eval()\n",
    "\n",
    "with torch.no_grad():\n",
    "    predictions = model(X_test).cpu().detach().numpy()\n",
    "    y_test_np = y_test.cpu().detach().numpy()  # Convertir y_test a Numpy array\n",
    "\n",
    "plt.figure(figsize=(12, 6))\n",
    "\n",
    "# Gráfico de dispersión para las predicciones\n",
    "plt.scatter(y_test_np, predictions, alpha=0.5, color='blue', label='Predicciones')\n",
    "\n",
    "# Gráfico de dispersión para los valores reales (diagonal)\n",
    "plt.scatter(y_test_np, y_test_np, alpha=0.5, color='red', label='Valores reales')\n",
    "\n",
    "# Línea de identidad para referencia visual\n",
    "plt.plot([y_test_np.min(), y_test_np.max()], [y_test_np.min(), y_test_np.max()], 'r', lw=2, label='Línea de Identidad')\n",
    "\n",
    "# Añadiendo etiquetas y leyenda\n",
    "plt.title('Valores Predichos vs Valores Reales')\n",
    "plt.xlabel('Valores Reales')\n",
    "plt.ylabel('Valores Predichos')\n",
    "plt.legend()\n",
    "\n",
    "# Mostrar la gráfica\n",
    "plt.show()"
   ],
   "outputs": [
    {
     "data": {
      "text/plain": [
       "<Figure size 1200x600 with 1 Axes>"
      ],
      "image/png": "[encoded data removed]"
     },
     "metadata": {},
     "output_type": "display_data"
    }
   ],
   "execution_count": 16
  },
  {
   "cell_type": "code",
   "execution_count": 40,
   "id": "7123ea5857cfa073",
   "metadata": {
    "ExecuteTime": {
     "end_time": "2024-09-15T23:39:07.913764Z",
     "start_time": "2024-09-15T23:39:07.897863Z"
    }
   },
   "outputs": [
    {
     "data": {
      "text/plain": [
       "array([[101.24754],\n",
       "       [101.24754],\n",
       "       [101.24754],\n",
       "       ...,\n",
       "       [101.24754],\n",
       "       [101.24754],\n",
       "       [101.24754]], dtype=float32)"
      ]
     },
     "execution_count": 40,
     "metadata": {},
     "output_type": "execute_result"
    }
   ],
   "source": [
    "predictions"
   ]
  },
  {
   "metadata": {
    "ExecuteTime": {
     "end_time": "2024-10-31T04:37:15.028996Z",
     "start_time": "2024-10-31T04:35:31.441389Z"
    }
   },
   "cell_type": "code",
   "source": [
    "import shap\n",
    "import numpy as np\n",
    "import matplotlib.pyplot as plt\n",
    "\n",
    "def explain_pytorch_model(model, X_train, X_val):\n",
    "    # Poner el modelo en modo evaluación\n",
    "    model.eval()\n",
    "    \n",
    "    # Crear una función que convierta los inputs de numpy a PyTorch y obtenga predicciones\n",
    "    def predict(x):\n",
    "        x_tensor = torch.Tensor(x)\n",
    "        with torch.no_grad():\n",
    "            return model(x_tensor).detach().numpy()\n",
    "    \n",
    "    # Crear el explainer de SHAP\n",
    "    # Usamos una muestra del conjunto de entrenamiento como background\n",
    "    background = X_train.detach().numpy()[:100]  # Tomamos 100 muestras como background\n",
    "    explainer = shap.KernelExplainer(predict, background)\n",
    "    \n",
    "    # Calcular valores SHAP para el conjunto de validación\n",
    "    # Tomamos una muestra para el análisis si el conjunto es muy grande\n",
    "    n_samples = min(100, X_val.shape[0])  # Limitamos a 100 muestras para eficiencia\n",
    "    X_val_sample = X_val.detach().numpy()[:n_samples]\n",
    "    \n",
    "    # Calcular valores SHAP\n",
    "    shap_values = explainer.shap_values(X_val_sample)\n",
    "    \n",
    "    # Crear el summary plot\n",
    "    plt.figure(figsize=(10, 6))\n",
    "    shap.summary_plot(shap_values, X_val_sample, show=False)\n",
    "    plt.title('SHAP Summary Plot')\n",
    "    plt.tight_layout()\n",
    "    plt.show()\n",
    "    \n",
    "    return explainer, shap_values\n",
    "\n",
    "# Usar la función con tu modelo\n",
    "explainer, shap_values = explain_pytorch_model(model, X_train_tensor, X_val_tensor)\n",
    "\n",
    "# Si quieres guardar el gráfico en TensorBoard\n",
    "figure = plt.gcf()\n",
    "writer.add_figure('SHAP/summary_plot', figure)"
   ],
   "id": "dc268bf2a3976824",
   "outputs": [
    {
     "data": {
      "text/plain": [
       "  0%|          | 0/100 [00:00<?, ?it/s]"
      ],
      "application/vnd.jupyter.widget-view+json": {
       "version_major": 2,
       "version_minor": 0,
       "model_id": "99343657e5114411b835459d3f93ccba"
      }
     },
     "metadata": {},
     "output_type": "display_data"
    },
    {
     "name": "stderr",
     "output_type": "stream",
     "text": [
      "D:\\Proyectos\\PANTALEON\\Pruebas\\.venv\\lib\\site-packages\\shap\\plots\\_beeswarm.py:600: UserWarning: Attempting to set identical low and high xlims makes transformation singular; automatically expanding.\n",
      "  pl.xlim((slow, shigh))\n"
     ]
    },
    {
     "data": {
      "text/plain": [
       "<Figure size 1000x600 with 0 Axes>"
      ]
     },
     "metadata": {},
     "output_type": "display_data"
    },
    {
     "data": {
      "text/plain": [
       "<Figure size 1150x660 with 1 Axes>"
      ],
      "image/png": "[encoded data removed]"
     },
     "metadata": {},
     "output_type": "display_data"
    }
   ],
   "execution_count": 22
  }
 ],
 "metadata": {
  "kernelspec": {
   "display_name": "Python 3",
   "language": "python",
   "name": "python3"
  },
  "language_info": {
   "codemirror_mode": {
    "name": "ipython",
    "version": 2
   },
   "file_extension": ".py",
   "mimetype": "text/x-python",
   "name": "python",
   "nbconvert_exporter": "python",
   "pygments_lexer": "ipython2",
   "version": "2.7.6"
  }
 },
 "nbformat": 4,
 "nbformat_minor": 5
}
